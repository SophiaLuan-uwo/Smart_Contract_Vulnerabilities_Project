{
 "cells": [
  {
   "cell_type": "code",
   "execution_count": null,
   "id": "89824718-6340-4efb-9fcc-73cd86227786",
   "metadata": {},
   "outputs": [],
   "source": [
    "import pandas as pd\n",
    "import torch\n",
    "import torch.nn as nn\n",
    "import torch.optim as optim\n",
    "from sklearn.metrics import roc_curve, auc, precision_recall_curve, confusion_matrix\n",
    "import matplotlib.pyplot as plt\n",
    "import seaborn as sns\n",
    "import os\n",
    "import ast\n",
    "import numpy as np\n",
    "\n",
    "print(os.getcwd())\n",
    "df_train = pd.read_csv(\"../codebert/train_data.csv\")\n",
    "df_test = pd.read_csv(\"../codebert/test_data.csv\")\n",
    "\n",
    "print(\"Train DataFrame:\")\n",
    "print(df_train.head())\n",
    "print(\"Columns:\", df_train.columns.tolist())\n",
    "print(\"\\nTest DataFrame:\")\n",
    "print(df_test.head())\n",
    "print(\"Columns:\", df_test.columns.tolist())"
   ]
  },
  {
   "cell_type": "code",
   "execution_count": null,
   "id": "94706556-713c-48f3-b7f0-b99932311314",
   "metadata": {},
   "outputs": [],
   "source": [
    "def parse_features_list(features_str):\n",
    "    cleaned_str = features_str.strip().strip('[]').replace('\\n', ' ').strip()\n",
    "    features_list = [float(x) for x in cleaned_str.split() if x]\n",
    "    return np.array(features_list, dtype=np.float32)\n",
    "\n",
    "X_train = np.stack(df_train['features_list_codebert'].apply(parse_features_list).values)\n",
    "X_test = np.stack(df_test['features_list_codebert'].apply(parse_features_list).values)\n",
    "\n",
    "y_train = df_train['vulnerability_exists'].values\n",
    "y_test = df_test['vulnerability_exists'].values\n",
    "\n",
    "# 轉為 PyTorch Tensor\n",
    "X_train = torch.tensor(X_train, dtype=torch.float32)\n",
    "y_train = torch.tensor(y_train, dtype=torch.float32).unsqueeze(1)  # [N] -> [N, 1]\n",
    "X_test = torch.tensor(X_test, dtype=torch.float32)\n",
    "y_test = torch.tensor(y_test, dtype=torch.float32).unsqueeze(1)\n",
    "\n",
    "# 驗證形狀\n",
    "print(f\"X_train shape: {X_train.shape}\")\n",
    "print(f\"y_train shape: {y_train.shape}\")\n",
    "print(f\"X_test shape: {X_test.shape}\")\n",
    "print(f\"y_test shape: {y_test.shape}\")\n",
    "\n",
    "output_dir = \"../codebert/\"\n",
    "torch.save(X_train, \"../codebert/X_train.pt\")\n",
    "torch.save(X_test, \"../codebert/X_test.pt\")"
   ]
  },
  {
   "cell_type": "code",
   "execution_count": null,
   "id": "6ded8eb9-1641-4dc4-9bfa-9265a7a838cc",
   "metadata": {},
   "outputs": [],
   "source": [
    "class VulnScreener(nn.Module):\n",
    "    def __init__(self):\n",
    "        super(VulnScreener, self).__init__()\n",
    "        self.mlp = nn.Sequential(\n",
    "            nn.Linear(768, 256),  # Input layer to Hidden Layer 1\n",
    "            nn.ReLU(),\n",
    "            nn.Dropout(0.3),\n",
    "            nn.Linear(256, 128),  # Hidden Layer 1 to Hidden Layer 2\n",
    "            nn.ReLU(),\n",
    "            nn.Dropout(0.3),\n",
    "            nn.Linear(128, 1),    # Hidden Layer 2 to Output Layer\n",
    "            nn.Sigmoid()          # Probability output\n",
    "        )\n",
    "    \n",
    "    def forward(self, x):\n",
    "        return self.mlp(x)  # Forward pass through the network\n",
    "\n",
    "def compute_metrics(outputs, y_true, T):\n",
    "    predictions = (outputs >= T).float()\n",
    "    TP = torch.sum((predictions == 1) & (y_true == 1)).float()\n",
    "    FN = torch.sum((predictions == 0) & (y_true == 1)).float()\n",
    "    FP = torch.sum((predictions == 1) & (y_true == 0)).float()\n",
    "    TN = torch.sum((predictions == 0) & (y_true == 0)).float()\n",
    "    epsilon = 1e-7\n",
    "    accuracy = (TP + TN) / (TP + TN + FP + FN + epsilon)\n",
    "    precision = TP / (TP + FP + epsilon)\n",
    "    recall = TP / (TP + FN + epsilon)\n",
    "    f1 = 2 * (precision * recall) / (precision + recall + epsilon)\n",
    "    fnr = FN / (TP + FN + epsilon)\n",
    "    fpr = FP / (FP + TN + epsilon)\n",
    "    return {\"accuracy\": accuracy.item(), \"precision\": precision.item(), \"recall\": recall.item(),\n",
    "            \"f1\": f1.item(), \"fnr\": fnr.item(), \"fpr\": fpr.item(),\"T\": T}\n",
    "\n",
    "def train_vuln_screener(X_train, y_train, epochs=220):\n",
    "    model = VulnScreener()\n",
    "    criterion = nn.BCELoss()\n",
    "    optimizer = optim.Adam(model.parameters(), lr=0.001)\n",
    "    T = 0.5\n",
    "    for epoch in range(epochs):\n",
    "        model.train()\n",
    "        optimizer.zero_grad()\n",
    "        outputs = model(X_train)\n",
    "        loss = criterion(outputs, y_train)\n",
    "        loss.backward()\n",
    "        optimizer.step()\n",
    "        if epoch % 5 == 0:\n",
    "            metrics = compute_metrics(outputs, y_train, T)\n",
    "            fnr = metrics[\"fnr\"]\n",
    "            fpr = metrics[\"fpr\"]\n",
    "            if fnr > 0.1:\n",
    "                T = max(0.3, T - 0.05)\n",
    "            elif fpr > 0.3:\n",
    "                T = min(0.7, T + 0.05)\n",
    "            print(f\"Epoch {epoch}, Loss: {loss.item():.4f}, T: {T:.2f}, Train Acc: {metrics['accuracy']:.4f}\")\n",
    "    return model, T\n",
    "\n",
    "def test_vuln_screener(model, X_test, y_test, T):\n",
    "    model.eval()\n",
    "    with torch.no_grad():\n",
    "        test_outputs = model(X_test)\n",
    "        metrics = compute_metrics(test_outputs, y_test, T)\n",
    "    print(\"\\nFinal testing result:\")\n",
    "    for key, value in metrics.items():\n",
    "        print(f\"{key}: {value:.4f}\")\n",
    "    return test_outputs\n"
   ]
  },
  {
   "cell_type": "code",
   "execution_count": null,
   "id": "f6161b94-a695-48ca-89a7-76603fd46955",
   "metadata": {},
   "outputs": [],
   "source": [
    "# Training and testing\n",
    "model, T = train_vuln_screener(X_train, y_train)\n",
    "test_outputs = test_vuln_screener(model, X_test, y_test, T)"
   ]
  },
  {
   "cell_type": "code",
   "execution_count": null,
   "id": "1100796f-d849-4e58-8260-dca6b7964f21",
   "metadata": {},
   "outputs": [],
   "source": [
    "precision, recall, thresholds = precision_recall_curve(y_test.numpy(), test_outputs.numpy())\n",
    "plt.plot(recall, precision, label=\"Precision-Recall curve\")\n",
    "plt.xlabel(\"Recall\")\n",
    "plt.ylabel(\"Precision\")\n",
    "plt.title(\"Precision-Recall Curve\")\n",
    "plt.legend()\n",
    "plt.show()"
   ]
  },
  {
   "cell_type": "code",
   "execution_count": null,
   "id": "983118a4-fb09-4a33-b556-90f485208c68",
   "metadata": {},
   "outputs": [],
   "source": [
    "# 選擇最佳閾值（最大化 Precision 同時保持合理 Recall）\n",
    "optimal_idx = np.argmax(precision[:-1] * (recall[:-1] >= 0.9))  # 保持 Recall >= 0.9\n",
    "optimal_threshold = thresholds[optimal_idx]\n",
    "print(f\"Optimal threshold: {optimal_threshold:.4f}\")"
   ]
  },
  {
   "cell_type": "code",
   "execution_count": null,
   "id": "032c73ca-bbe0-4aa6-ae44-5e3db65335e4",
   "metadata": {},
   "outputs": [],
   "source": [
    "# 用最佳閾值重新評估\n",
    "metrics_optimal = compute_metrics(test_outputs, y_test, optimal_threshold)\n",
    "print(\"\\n最終測試結果 (最佳閾值):\")\n",
    "for key, value in metrics_optimal.items():\n",
    "    print(f\"{key}: {value:.4f}\")"
   ]
  },
  {
   "cell_type": "code",
   "execution_count": null,
   "id": "48bacb0a-dec9-4efe-8081-7fb1402aec13",
   "metadata": {},
   "outputs": [],
   "source": [
    "fpr, tpr, _ = roc_curve(y_test.numpy(), test_outputs.numpy())\n",
    "roc_auc = auc(fpr, tpr)\n",
    "plt.figure()\n",
    "plt.plot(fpr, tpr, label=f\"ROC curve (AUC = {roc_auc:.2f})\")\n",
    "plt.plot([0, 1], [0, 1], 'k--')\n",
    "plt.xlabel(\"False Positive Rate\")\n",
    "plt.ylabel(\"True Positive Rate\")\n",
    "plt.title(\"ROC Curve\")\n",
    "plt.legend()\n",
    "plt.show()"
   ]
  },
  {
   "cell_type": "code",
   "execution_count": null,
   "id": "2a533c48-441a-4e1f-b82d-b7c1673c0a07",
   "metadata": {},
   "outputs": [],
   "source": [
    "predictions = (test_outputs >= T).float().numpy()\n",
    "cm = confusion_matrix(y_test.numpy(), predictions)\n",
    "plt.figure()\n",
    "sns.heatmap(cm, annot=True, fmt=\"d\", cmap=\"Blues\", \n",
    "            xticklabels=[\"Negative\", \"Positive\"], yticklabels=[\"Negative\", \"Positive\"])\n",
    "plt.xlabel(\"Predicted\")\n",
    "plt.ylabel(\"True\")\n",
    "plt.title(\"Confusion Matrix\")\n",
    "plt.show()"
   ]
  },
  {
   "cell_type": "code",
   "execution_count": null,
   "id": "f61fd4b9-4d52-4afa-bd2a-680190367e0d",
   "metadata": {},
   "outputs": [],
   "source": [
    "torch.save(model, '../codebert/vuln_screener_model.pth')"
   ]
  }
 ],
 "metadata": {
  "kernelspec": {
   "display_name": "Python 3 (ipykernel)",
   "language": "python",
   "name": "python3"
  },
  "language_info": {
   "codemirror_mode": {
    "name": "ipython",
    "version": 3
   },
   "file_extension": ".py",
   "mimetype": "text/x-python",
   "name": "python",
   "nbconvert_exporter": "python",
   "pygments_lexer": "ipython3",
   "version": "3.12.4"
  }
 },
 "nbformat": 4,
 "nbformat_minor": 5
}
