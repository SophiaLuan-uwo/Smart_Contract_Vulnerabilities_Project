{
 "cells": [
  {
   "cell_type": "code",
   "execution_count": 1,
   "id": "89824718-6340-4efb-9fcc-73cd86227786",
   "metadata": {},
   "outputs": [
    {
     "name": "stdout",
     "output_type": "stream",
     "text": [
      "/Users/rita/Documents/9309_ML/Smart_Contract_Vulnerabilities_Project/Model Training\n",
      "Train DataFrame:\n",
      "   vulnerability_exists           vulnerability_list  \\\n",
      "0                     0  [1, 0, 0, 0, 0, 0, 0, 0, 0]   \n",
      "1                     1  [0, 0, 0, 0, 0, 0, 0, 1, 0]   \n",
      "2                     0  [1, 0, 0, 0, 0, 0, 0, 0, 0]   \n",
      "3                     1  [0, 0, 0, 0, 0, 0, 0, 1, 0]   \n",
      "4                     0  [1, 0, 0, 0, 0, 0, 0, 0, 0]   \n",
      "\n",
      "                              features_list_codebert  \n",
      "0  [ 1.24513000e-01 -2.69861996e-01 -2.88200080e-...  \n",
      "1  [ 9.27233920e-02 -2.72324622e-01 -3.53776157e-...  \n",
      "2  [ 6.29609600e-02 -2.30400190e-01 -3.58148873e-...  \n",
      "3  [ 1.14520445e-01 -2.00031653e-01 -3.54265928e-...  \n",
      "4  [ 1.24746501e-01 -2.72341669e-01 -2.81437218e-...  \n",
      "Columns: ['vulnerability_exists', 'vulnerability_list', 'features_list_codebert']\n",
      "\n",
      "Test DataFrame:\n",
      "   vulnerability_exists           vulnerability_list  \\\n",
      "0                     1  [0, 0, 0, 0, 0, 1, 0, 0, 0]   \n",
      "1                     1  [0, 0, 0, 0, 1, 0, 0, 0, 0]   \n",
      "2                     1  [0, 0, 0, 0, 0, 0, 0, 1, 0]   \n",
      "3                     0  [1, 0, 0, 0, 0, 0, 0, 0, 0]   \n",
      "4                     0  [1, 0, 0, 0, 0, 0, 0, 0, 0]   \n",
      "\n",
      "                              features_list_codebert  \n",
      "0  [ 1.22837499e-01 -1.96911767e-01 -3.77237022e-...  \n",
      "1  [ 1.08628139e-01 -2.24209145e-01 -3.49842668e-...  \n",
      "2  [ 1.02603912e-01  7.49392211e-02 -2.28209570e-...  \n",
      "3  [ 8.20054933e-02 -1.89044908e-01 -2.78993249e-...  \n",
      "4  [ 3.83623242e-02 -2.39987507e-01 -2.05973536e-...  \n",
      "Columns: ['vulnerability_exists', 'vulnerability_list', 'features_list_codebert']\n"
     ]
    }
   ],
   "source": [
    "import pandas as pd\n",
    "import torch\n",
    "import torch.nn as nn\n",
    "import torch.optim as optim\n",
    "from sklearn.metrics import roc_curve, auc, precision_recall_curve, confusion_matrix\n",
    "import matplotlib.pyplot as plt\n",
    "import seaborn as sns\n",
    "import os\n",
    "import ast\n",
    "import numpy as np\n",
    "\n",
    "print(os.getcwd())\n",
    "df_train = pd.read_csv(\"../codebert/train_data.csv\")\n",
    "df_test = pd.read_csv(\"../codebert/test_data.csv\")\n",
    "\n",
    "print(\"Train DataFrame:\")\n",
    "print(df_train.head())\n",
    "print(\"Columns:\", df_train.columns.tolist())\n",
    "print(\"\\nTest DataFrame:\")\n",
    "print(df_test.head())\n",
    "print(\"Columns:\", df_test.columns.tolist())"
   ]
  },
  {
   "cell_type": "code",
   "execution_count": 2,
   "id": "94706556-713c-48f3-b7f0-b99932311314",
   "metadata": {},
   "outputs": [
    {
     "name": "stdout",
     "output_type": "stream",
     "text": [
      "X_train shape: torch.Size([4294, 768])\n",
      "y_train shape: torch.Size([4294, 1])\n",
      "X_test shape: torch.Size([1074, 768])\n",
      "y_test shape: torch.Size([1074, 1])\n"
     ]
    }
   ],
   "source": [
    "def parse_features_list(features_str):\n",
    "    cleaned_str = features_str.strip().strip('[]').replace('\\n', ' ').strip()\n",
    "    features_list = [float(x) for x in cleaned_str.split() if x]\n",
    "    return np.array(features_list, dtype=np.float32)\n",
    "\n",
    "X_train = np.stack(df_train['features_list_codebert'].apply(parse_features_list).values)\n",
    "X_test = np.stack(df_test['features_list_codebert'].apply(parse_features_list).values)\n",
    "\n",
    "y_train = df_train['vulnerability_exists'].values\n",
    "y_test = df_test['vulnerability_exists'].values\n",
    "\n",
    "# 轉為 PyTorch Tensor\n",
    "X_train = torch.tensor(X_train, dtype=torch.float32)\n",
    "y_train = torch.tensor(y_train, dtype=torch.float32).unsqueeze(1)  # [N] -> [N, 1]\n",
    "X_test = torch.tensor(X_test, dtype=torch.float32)\n",
    "y_test = torch.tensor(y_test, dtype=torch.float32).unsqueeze(1)\n",
    "\n",
    "# 驗證形狀\n",
    "print(f\"X_train shape: {X_train.shape}\")\n",
    "print(f\"y_train shape: {y_train.shape}\")\n",
    "print(f\"X_test shape: {X_test.shape}\")\n",
    "print(f\"y_test shape: {y_test.shape}\")\n",
    "\n",
    "output_dir = \"../codebert/\"\n",
    "torch.save(X_train, \"../codebert/X_train.pt\")\n",
    "torch.save(X_test, \"../codebert/X_test.pt\")"
   ]
  },
  {
   "cell_type": "code",
   "execution_count": 3,
   "id": "6ded8eb9-1641-4dc4-9bfa-9265a7a838cc",
   "metadata": {},
   "outputs": [
    {
     "ename": "IndentationError",
     "evalue": "expected an indented block after function definition on line 3 (2555751609.py, line 4)",
     "output_type": "error",
     "traceback": [
      "\u001b[0;36m  Cell \u001b[0;32mIn[3], line 4\u001b[0;36m\u001b[0m\n\u001b[0;31m    super(VulnScreener, self).__init__()\u001b[0m\n\u001b[0m    ^\u001b[0m\n\u001b[0;31mIndentationError\u001b[0m\u001b[0;31m:\u001b[0m expected an indented block after function definition on line 3\n"
     ]
    }
   ],
   "source": [
    "class VulnScreener(nn.Module):\n",
    "    def __init__(self):\n",
    "        super(VulnScreener, self).__init__()\n",
    "        self.mlp = nn.Sequential(\n",
    "            nn.Linear(768, 256), nn.BatchNorm1d(256), nn.ReLU(), nn.Dropout(0.5),\n",
    "            nn.Linear(256, 128), nn.BatchNorm1d(128), nn.ReLU(), nn.Dropout(0.5),\n",
    "            nn.Linear(128, 1)\n",
    "        )\n",
    "    def forward(self, x):\n",
    "        return self.mlp(x)\n",
    "\n",
    "def compute_metrics(outputs, y_true, T):\n",
    "    predictions = (outputs >= T).float()\n",
    "    TP = torch.sum((predictions == 1) & (y_true == 1)).float()\n",
    "    FN = torch.sum((predictions == 0) & (y_true == 1)).float()\n",
    "    FP = torch.sum((predictions == 1) & (y_true == 0)).float()\n",
    "    TN = torch.sum((predictions == 0) & (y_true == 0)).float()\n",
    "    epsilon = 1e-7\n",
    "    accuracy = (TP + TN) / (TP + TN + FP + FN + epsilon)\n",
    "    precision = TP / (TP + FP + epsilon)\n",
    "    recall = TP / (TP + FN + epsilon)\n",
    "    f1 = 2 * (precision * recall) / (precision + recall + epsilon)\n",
    "    fnr = FN / (TP + FN + epsilon)\n",
    "    fpr = FP / (FP + TN + epsilon)\n",
    "    return {\"accuracy\": accuracy.item(), \"precision\": precision.item(), \"recall\": recall.item(),\n",
    "            \"f1\": f1.item(), \"fnr\": fnr.item(), \"fpr\": fpr.item(),\"T\": T}\n",
    "\n",
    "def train_vuln_screener(X_train, y_train, epochs=400):\n",
    "    model = VulnScreener()\n",
    "    pos_weight = torch.tensor([(y_train.shape[0] - y_train.sum()) / y_train.sum()] * 1.5)  # 增加正類權重\n",
    "    criterion = nn.BCEWithLogitsLoss(pos_weight=pos_weight)\n",
    "    optimizer = optim.Adam(model.parameters(), lr=0.001, weight_decay=1e-3)  # 加強 L2 正則化\n",
    "    scheduler = optim.lr_scheduler.ReduceLROnPlateau(optimizer, mode='min', factor=0.5, patience=15)\n",
    "    T = 0.0\n",
    "\n",
    "    for epoch in range(epochs):\n",
    "        model.train()\n",
    "        optimizer.zero_grad()\n",
    "        outputs = model(X_train)\n",
    "        loss = criterion(outputs, y_train)\n",
    "        loss.backward()\n",
    "        optimizer.step()\n",
    "\n",
    "        if epoch % 5 == 0:\n",
    "            model.eval()\n",
    "            with torch.no_grad():\n",
    "                train_probs = torch.sigmoid(outputs)\n",
    "                metrics = compute_metrics(train_probs, y_train, 0.5)\n",
    "                fnr, fpr = metrics[\"fnr\"], metrics[\"fpr\"]\n",
    "                if fnr > 0.02:  # 更嚴格的 FNR 目標\n",
    "                    T = max(-1.0, T - 0.5)\n",
    "                elif fpr > 0.05:  # 更嚴格的 FPR 目標\n",
    "                    T = min(1.0, T + 0.5)\n",
    "                print(f\"Epoch {epoch}, Loss: {loss.item():.4f}, T: {T:.2f}, Train Acc: {metrics['accuracy']:.4f}, FPR: {fpr:.4f}\")\n",
    "\n",
    "        scheduler.step(loss)\n",
    "\n",
    "    return model, T\n",
    "\n",
    "# 測試第一個模型\n",
    "def test_vuln_screener(model, X_test, y_test, T):\n",
    "    model.eval()\n",
    "    with torch.no_grad():\n",
    "        test_outputs = model(X_test)\n",
    "        test_probs = torch.sigmoid(test_outputs)\n",
    "        metrics = compute_metrics(test_probs, y_test, 0.5)\n",
    "    print(\"\\nFirst Model - Final testing result (T=0.5):\")\n",
    "    for key, value in metrics.items():\n",
    "        print(f\"{key}: {value:.4f}\")\n",
    "    return test_outputs\n"
   ]
  },
  {
   "cell_type": "code",
   "execution_count": null,
   "id": "f6161b94-a695-48ca-89a7-76603fd46955",
   "metadata": {},
   "outputs": [],
   "source": [
    "# Training and testing\n",
    "model, T = train_vuln_screener(X_train, y_train)\n",
    "test_outputs = test_vuln_screener(model, X_test, y_test, T)"
   ]
  },
  {
   "cell_type": "code",
   "execution_count": null,
   "id": "1100796f-d849-4e58-8260-dca6b7964f21",
   "metadata": {},
   "outputs": [],
   "source": [
    "precision, recall, thresholds = precision_recall_curve(y_test.numpy(), test_outputs.numpy())\n",
    "plt.plot(recall, precision, label=\"Precision-Recall curve\")\n",
    "plt.xlabel(\"Recall\")\n",
    "plt.ylabel(\"Precision\")\n",
    "plt.title(\"Precision-Recall Curve\")\n",
    "plt.legend()\n",
    "plt.show()"
   ]
  },
  {
   "cell_type": "code",
   "execution_count": null,
   "id": "48bacb0a-dec9-4efe-8081-7fb1402aec13",
   "metadata": {},
   "outputs": [],
   "source": [
    "fpr, tpr, _ = roc_curve(y_test.numpy(), test_outputs.numpy())\n",
    "roc_auc = auc(fpr, tpr)\n",
    "plt.figure()\n",
    "plt.plot(fpr, tpr, label=f\"ROC curve (AUC = {roc_auc:.2f})\")\n",
    "plt.plot([0, 1], [0, 1], 'k--')\n",
    "plt.xlabel(\"False Positive Rate\")\n",
    "plt.ylabel(\"True Positive Rate\")\n",
    "plt.title(\"ROC Curve\")\n",
    "plt.legend()\n",
    "plt.show()"
   ]
  },
  {
   "cell_type": "code",
   "execution_count": null,
   "id": "2a533c48-441a-4e1f-b82d-b7c1673c0a07",
   "metadata": {},
   "outputs": [],
   "source": [
    "predictions = (test_outputs >= T).float().numpy()\n",
    "cm = confusion_matrix(y_test.numpy(), predictions)\n",
    "plt.figure()\n",
    "sns.heatmap(cm, annot=True, fmt=\"d\", cmap=\"Blues\", \n",
    "            xticklabels=[\"Negative\", \"Positive\"], yticklabels=[\"Negative\", \"Positive\"])\n",
    "plt.xlabel(\"Predicted\")\n",
    "plt.ylabel(\"True\")\n",
    "plt.title(\"Confusion Matrix\")\n",
    "plt.show()"
   ]
  },
  {
   "cell_type": "code",
   "execution_count": null,
   "id": "f61fd4b9-4d52-4afa-bd2a-680190367e0d",
   "metadata": {},
   "outputs": [],
   "source": [
    "torch.save(model, '../codebert/vuln_screener_model.pth')"
   ]
  }
 ],
 "metadata": {
  "kernelspec": {
   "display_name": "Python 3 (ipykernel)",
   "language": "python",
   "name": "python3"
  },
  "language_info": {
   "codemirror_mode": {
    "name": "ipython",
    "version": 3
   },
   "file_extension": ".py",
   "mimetype": "text/x-python",
   "name": "python",
   "nbconvert_exporter": "python",
   "pygments_lexer": "ipython3",
   "version": "3.12.4"
  }
 },
 "nbformat": 4,
 "nbformat_minor": 5
}
