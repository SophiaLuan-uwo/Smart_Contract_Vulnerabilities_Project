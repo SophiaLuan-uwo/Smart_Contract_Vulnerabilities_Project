{
 "cells": [
  {
   "cell_type": "code",
   "execution_count": 63,
   "metadata": {},
   "outputs": [],
   "source": [
    "import pandas as pd\n",
    "import matplotlib.pyplot as plt\n",
    "import seaborn as sns\n",
    "import re\n",
    "from nltk.tokenize import RegexpTokenizer\n"
   ]
  },
  {
   "cell_type": "code",
   "execution_count": 61,
   "metadata": {},
   "outputs": [
    {
     "name": "stdout",
     "output_type": "stream",
     "text": [
      "   Unnamed: 0   filename                                               code  \\\n",
      "0           0  33790.sol  pragma solidity ^0.4.4;\\n\\ncontract Token {\\n\\...   \n",
      "1           1  31454.sol  pragma solidity ^0.4.4;\\n\\ncontract Token {\\n\\...   \n",
      "2           2  40744.sol  contract SendBalance {\\n mapping (address => u...   \n",
      "3           3  39290.sol  /**\\n * Originally from https://github.com/Con...   \n",
      "4           4  39358.sol  pragma solidity ^0.4.4;\\n\\nlibrary ArrayLib{\\n...   \n",
      "\n",
      "                        label  label_encoded  \n",
      "0  ./Dataset/reentrancy (RE)/              5  \n",
      "1  ./Dataset/reentrancy (RE)/              5  \n",
      "2  ./Dataset/reentrancy (RE)/              5  \n",
      "3  ./Dataset/reentrancy (RE)/              5  \n",
      "4  ./Dataset/reentrancy (RE)/              5  \n",
      "Unnamed: 0       0\n",
      "filename         0\n",
      "code             0\n",
      "label            0\n",
      "label_encoded    0\n",
      "dtype: int64\n"
     ]
    }
   ],
   "source": [
    "df = pd.read_csv(\"SC_Vuln_8label.csv\")\n",
    "print(df.head())\n",
    "print(df.isnull().sum()) #no missing values"
   ]
  },
  {
   "cell_type": "code",
   "execution_count": 62,
   "metadata": {},
   "outputs": [
    {
     "name": "stdout",
     "output_type": "stream",
     "text": [
      "label_encoded\n",
      "5    1218\n",
      "7    1199\n",
      "4     590\n",
      "0     406\n",
      "3     366\n",
      "6     312\n",
      "1      97\n",
      "2      97\n",
      "Name: count, dtype: int64\n"
     ]
    }
   ],
   "source": [
    "value_counts = df['label_encoded'].value_counts()\n",
    "print(value_counts)"
   ]
  },
  {
   "cell_type": "code",
   "execution_count": 22,
   "metadata": {},
   "outputs": [
    {
     "name": "stderr",
     "output_type": "stream",
     "text": [
      "/var/folders/ln/h53dq6lx7ms860khpwqxq2vc0000gn/T/ipykernel_80960/2663077865.py:2: FutureWarning: \n",
      "\n",
      "Passing `palette` without assigning `hue` is deprecated and will be removed in v0.14.0. Assign the `x` variable to `hue` and set `legend=False` for the same effect.\n",
      "\n",
      "  sns.countplot(x = df['label_encoded'], palette = 'Set1', alpha = 0.8)\n"
     ]
    },
    {
     "data": {
      "text/plain": [
       "Text(0.5, 1.0, 'Distribution of vulnerabilities')"
      ]
     },
     "execution_count": 22,
     "metadata": {},
     "output_type": "execute_result"
    },
    {
     "data": {
      "image/png": "[encoded data removed]",
      "text/plain": [
       "<Figure size 500x300 with 1 Axes>"
      ]
     },
     "metadata": {},
     "output_type": "display_data"
    }
   ],
   "source": [
    "plt.figure(figsize = (5,3))\n",
    "sns.countplot(x = df['label_encoded'], palette = 'Set1', alpha = 0.8)\n",
    "plt.title('Distribution of vulnerabilities')"
   ]
  },
  {
   "cell_type": "code",
   "execution_count": 59,
   "metadata": {},
   "outputs": [
    {
     "name": "stdout",
     "output_type": "stream",
     "text": [
      "contract Token { function totalSupply(uint256) constant returns (uint256 supply) {} function balanceOf(address _owner) constant returns (uint256 balance) {} function transfer(address _to, uint256 _value) returns (bool success) {} function transferFrom(address _from, address _to, uint256 _value) returns (bool success) {} function approve(address _spender, uint256 _value) returns (bool success) {} function allowance(address _owner, address _spender) constant returns (uint256 remaining) {} event Transfer(address indexed _from, address indexed _to, uint256 _value); event Approval(address indexed _owner, address indexed _spender, uint256 _value); } contract StandardToken is Token { function transfer(address _to, uint256 _value) returns (bool success) { if (balances[msg.sender] >= _value && _value > 0) { balances[msg.sender] -= _value; balances[_to] += _value; Transfer(msg.sender, _to, _value); return true; } else { return false; } } function transferFrom(address _from, address _to, uint256 _value) returns (bool success) { if (balances[_from] >= _value && allowed[_from][msg.sender] >= _value && _value > 0) { balances[_to] += _value; balances[_from] -= _value; allowed[_from][msg.sender] -= _value; Transfer(_from, _to, _value); return true; } else { return false; } } function balanceOf(address _owner) constant returns (uint256 balance) { return balances[_owner]; } function approve(address _spender, uint256 _value) returns (bool success) { allowed[msg.sender][_spender] = _value; Approval(msg.sender, _spender, _value); return true; } function allowance(address _owner, address _spender) constant returns (uint256 remaining) { return allowed[_owner][_spender]; } mapping (address => uint256) balances; mapping (address => mapping (address => uint256)) allowed; uint256 public totalSupply; } contract SALES is StandardToken { function () { throw; } string public name; uint8 public decimals; string public symbol; string public version = __STRING0__; function SALES( ) { balances[msg.sender] = 1010101010; totalSupply =1010101010; name = __STRING2__; decimals = 2; symbol = __STRING2__; } function approveAndCall(address _spender, uint256 _value, bytes _extraData) returns (bool success) { allowed[msg.sender][_spender] = _value; Approval(msg.sender, _spender, _value); if(!_spender.call(bytes4(bytes32(sha3(__STRING3__))), msg.sender, _value, this, _extraData)) { throw; } return true; } }\n"
     ]
    }
   ],
   "source": [
    "import re\n",
    "\n",
    "def clean_code(code):\n",
    "    # Remove comments (single-line and multi-line)\n",
    "    code = re.sub(r'\\/\\/.*', '', code)\n",
    "    code = re.sub(r'\\/\\*[\\s\\S]*?\\*\\/', '', code)\n",
    "    code = re.sub(r\"pragma solidity[^;]+;\", \"\", code)\n",
    "    code = re.sub(r\"import [^;]+;\", \"\", code)\n",
    "    code = re.sub(r\"\\s+\", \" \", code).strip()\n",
    "\n",
    "    string_literals = re.findall(r'\"[^\"]*\"|\\'[^\\']*\\'', code)\n",
    "    string_map = {s: f'__STRING{idx}__' for idx, s in enumerate(string_literals)}\n",
    "    for string, placeholder in string_map.items():\n",
    "        code = code.replace(string, placeholder)\n",
    "    \n",
    "    return code\n",
    "\n",
    "\n",
    "df['clean_code'] = df['code'].apply(clean_code)\n",
    "print(df['clean_code'][0])\n"
   ]
  },
  {
   "cell_type": "code",
   "execution_count": null,
   "metadata": {},
   "outputs": [
    {
     "name": "stdout",
     "output_type": "stream",
     "text": [
      "['contract', 'Token', '{', 'function', 'totalSupply', '(', 'uint256', ')', 'constant', 'returns', '(', 'uint256', 'supply', ')', '{', '}', 'function', 'balanceOf', '(', 'address', '_owner', ')', 'constant', 'returns', '(', 'uint256', 'balance', ')', '{', '}', 'function', 'transfer', '(', 'address', '_to', ',', 'uint256', '_value', ')', 'returns', '(', 'bool', 'success', ')', '{', '}', 'function', 'transferFrom', '(', 'address', '_from', ',', 'address', '_to', ',', 'uint256', '_value', ')', 'returns', '(', 'bool', 'success', ')', '{', '}', 'function', 'approve', '(', 'address', '_spender', ',', 'uint256', '_value', ')', 'returns', '(', 'bool', 'success', ')', '{', '}', 'function', 'allowance', '(', 'address', '_owner', ',', 'address', '_spender', ')', 'constant', 'returns', '(', 'uint256', 'remaining', ')', '{', '}', 'event', 'Transfer', '(', 'address', 'indexed', '_from', ',', 'address', 'indexed', '_to', ',', 'uint256', '_value', ')', ';', 'event', 'Approval', '(', 'address', 'indexed', '_owner', ',', 'address', 'indexed', '_spender', ',', 'uint256', '_value', ')', ';', '}', 'contract', 'StandardToken', 'is', 'Token', '{', 'function', 'transfer', '(', 'address', '_to', ',', 'uint256', '_value', ')', 'returns', '(', 'bool', 'success', ')', '{', 'if', '(', 'balances', '[', 'msg', '.', 'sender', ']', '>=', '_value', '&&', '_value', '>', '0', ')', '{', 'balances', '[', 'msg', '.', 'sender', ']', '-=', '_value', ';', 'balances', '[', '_to', ']', '+=', '_value', ';', 'Transfer', '(', 'msg', '.', 'sender', ',', '_to', ',', '_value', ')', ';', 'return', 'true', ';', '}', 'else', '{', 'return', 'false', ';', '}', '}', 'function', 'transferFrom', '(', 'address', '_from', ',', 'address', '_to', ',', 'uint256', '_value', ')', 'returns', '(', 'bool', 'success', ')', '{', 'if', '(', 'balances', '[', '_from', ']', '>=', '_value', '&&', 'allowed', '[', '_from', ']', '[', 'msg', '.', 'sender', ']', '>=', '_value', '&&', '_value', '>', '0', ')', '{', 'balances', '[', '_to', ']', '+=', '_value', ';', 'balances', '[', '_from', ']', '-=', '_value', ';', 'allowed', '[', '_from', ']', '[', 'msg', '.', 'sender', ']', '-=', '_value', ';', 'Transfer', '(', '_from', ',', '_to', ',', '_value', ')', ';', 'return', 'true', ';', '}', 'else', '{', 'return', 'false', ';', '}', '}', 'function', 'balanceOf', '(', 'address', '_owner', ')', 'constant', 'returns', '(', 'uint256', 'balance', ')', '{', 'return', 'balances', '[', '_owner', ']', ';', '}', 'function', 'approve', '(', 'address', '_spender', ',', 'uint256', '_value', ')', 'returns', '(', 'bool', 'success', ')', '{', 'allowed', '[', 'msg', '.', 'sender', ']', '[', '_spender', ']', '=', '_value', ';', 'Approval', '(', 'msg', '.', 'sender', ',', '_spender', ',', '_value', ')', ';', 'return', 'true', ';', '}', 'function', 'allowance', '(', 'address', '_owner', ',', 'address', '_spender', ')', 'constant', 'returns', '(', 'uint256', 'remaining', ')', '{', 'return', 'allowed', '[', '_owner', ']', '[', '_spender', ']', ';', '}', 'mapping', '(', 'address', '=>', 'uint256', ')', 'balances', ';', 'mapping', '(', 'address', '=>', 'mapping', '(', 'address', '=>', 'uint256', ')', ')', 'allowed', ';', 'uint256', 'public', 'totalSupply', ';', '}', 'contract', 'SALES', 'is', 'StandardToken', '{', 'function', '(', ')', '{', 'throw', ';', '}', 'string', 'public', 'name', ';', 'uint8', 'public', 'decimals', ';', 'string', 'public', 'symbol', ';', 'string', 'public', 'version', '=', '__STRING0__', ';', 'function', 'SALES', '(', ')', '{', 'balances', '[', 'msg', '.', 'sender', ']', '=', '1010101010', ';', 'totalSupply', '=', '1010101010', ';', 'name', '=', '__STRING2__', ';', 'decimals', '=', '2', ';', 'symbol', '=', '__STRING2__', ';', '}', 'function', 'approveAndCall', '(', 'address', '_spender', ',', 'uint256', '_value', ',', 'bytes', '_extraData', ')', 'returns', '(', 'bool', 'success', ')', '{', 'allowed', '[', 'msg', '.', 'sender', ']', '[', '_spender', ']', '=', '_value', ';', 'Approval', '(', 'msg', '.', 'sender', ',', '_spender', ',', '_value', ')', ';', 'if', '(', '!', '_spender', '.', 'call', '(', 'bytes4', '(', 'bytes32', '(', 'sha3', '(', '__STRING3__', ')', ')', ')', ',', 'msg', '.', 'sender', ',', '_value', ',', 'this', ',', '_extraData', ')', ')', '{', 'throw', ';', '}', 'return', 'true', ';', '}', '}']\n"
     ]
    }
   ],
   "source": [
    "#Tokenization helps extract important elements from the code\n",
    "solidity_token_pattern = r\"\"\"\n",
    "    [A-Za-z_][A-Za-z_0-9]*      \n",
    "    |\\d+\\.\\d+|\\d+               \n",
    "    |0x[0-9a-fA-F]+             \n",
    "    |\\d+e[+-]?\\d+              \n",
    "    |==|!=|>=|<=|\\+=|-=|\\*=|/=  \n",
    "    |=>|=<|>>|<<|\\+\\+|--        \n",
    "    |&&|\\|\\||!                  \n",
    "    |[^\\w\\s]                    \n",
    "\"\"\"\n",
    "\n",
    "tokenizer = RegexpTokenizer(solidity_token_pattern, flags=re.VERBOSE)\n",
    "\n",
    "df['tokens'] = df['clean_code'].apply(tokenizer.tokenize)\n",
    "print(df['tokens'][0])"
   ]
  },
  {
   "cell_type": "code",
   "execution_count": null,
   "metadata": {},
   "outputs": [],
   "source": []
  }
 ],
 "metadata": {
  "kernelspec": {
   "display_name": "Python 3",
   "language": "python",
   "name": "python3"
  },
  "language_info": {
   "codemirror_mode": {
    "name": "ipython",
    "version": 3
   },
   "file_extension": ".py",
   "mimetype": "text/x-python",
   "name": "python",
   "nbconvert_exporter": "python",
   "pygments_lexer": "ipython3",
   "version": "3.12.6"
  }
 },
 "nbformat": 4,
 "nbformat_minor": 2
}
