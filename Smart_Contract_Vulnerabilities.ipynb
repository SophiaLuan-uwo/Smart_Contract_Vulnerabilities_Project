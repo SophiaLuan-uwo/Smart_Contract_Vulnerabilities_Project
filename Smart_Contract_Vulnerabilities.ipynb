{
 "cells": [
  {
   "cell_type": "code",
   "execution_count": 11,
   "metadata": {},
   "outputs": [],
   "source": [
    "import pandas as pd\n",
    "import matplotlib.pyplot as plt\n",
    "import seaborn as sns\n",
    "import json\n",
    "import re\n",
    "\n",
    "# from nltk.corpus import stopwords\n",
    "from nltk.tokenize import RegexpTokenizer\n",
    "from sklearn.feature_extraction.text import TfidfVectorizer\n",
    "from sklearn.preprocessing import LabelEncoder\n",
    "from sklearn.model_selection import train_test_split\n",
    "\n",
    "# nltk.download('stopwords')\n"
   ]
  },
  {
   "cell_type": "code",
   "execution_count": 12,
   "metadata": {},
   "outputs": [
    {
     "name": "stdout",
     "output_type": "stream",
     "text": [
      "    filename                                               code  \\\n",
      "0  33790.sol  pragma solidity ^0.4.4;\\n\\ncontract Token {\\n\\...   \n",
      "1  31454.sol  pragma solidity ^0.4.4;\\n\\ncontract Token {\\n\\...   \n",
      "2  40744.sol  contract SendBalance {\\n mapping (address => u...   \n",
      "3  39290.sol  /**\\n * Originally from https://github.com/Con...   \n",
      "4  39358.sol  pragma solidity ^0.4.4;\\n\\nlibrary ArrayLib{\\n...   \n",
      "\n",
      "                        label  label_encoded  \n",
      "0  ./Dataset/reentrancy (RE)/              5  \n",
      "1  ./Dataset/reentrancy (RE)/              5  \n",
      "2  ./Dataset/reentrancy (RE)/              5  \n",
      "3  ./Dataset/reentrancy (RE)/              5  \n",
      "4  ./Dataset/reentrancy (RE)/              5  \n",
      "filename         0\n",
      "code             0\n",
      "label            0\n",
      "label_encoded    0\n",
      "dtype: int64\n"
     ]
    }
   ],
   "source": [
    "df_8label = pd.read_csv(\"SC_Vuln_8label.csv\", index_col=0)\n",
    "print(df_8label.head())\n",
    "print(df_8label.isnull().sum()) #no missing values"
   ]
  },
  {
   "cell_type": "code",
   "execution_count": 13,
   "metadata": {},
   "outputs": [],
   "source": [
    "import numpy as np\n",
    "import pandas as pd\n",
    "from datasets import load_dataset\n",
    "\n",
    "ds = load_dataset(\"mwritescode/slither-audited-smart-contracts\", \"all-multilabel\", trust_remote_code=True)\n",
    "\n",
    "df = ds['train'].to_pandas()\n",
    "df['slither'] = df['slither'].apply(lambda x: x.tolist() if isinstance(x, np.ndarray) else x)\n",
    "\n",
    "safe_contracts = df[df['slither'].apply(lambda x: x == [4])]\n",
    "safe_contracts_final = pd.DataFrame({\n",
    "    'filename': safe_contracts['address'],\n",
    "    'code': safe_contracts['source_code'],\n",
    "    'label': \"No Vulnerability\",\n",
    "    'label_encoded': 8, \n",
    "})\n",
    "\n",
    "safe_contracts_final.to_csv(\"safe_contracts.csv\", index=False)\n"
   ]
  },
  {
   "cell_type": "code",
   "execution_count": 14,
   "metadata": {},
   "outputs": [
    {
     "name": "stdout",
     "output_type": "stream",
     "text": [
      "                                       filename  \\\n",
      "0    0x006699d34AA3013605d468d2755A2Fe59A16B12B   \n",
      "56   0x13ea09ea5107af214a6fa279ac20c229ee188b28   \n",
      "115  0x2742A152Be5032DafBC885Ba1801ffbc2345de7B   \n",
      "126  0x29d37c358bff8c7facbeba406c6b5057322fc7f4   \n",
      "218  0x4639cd8cd52ec1cf2e496a606ce28d8afb1c792f   \n",
      "\n",
      "                                                  code             label  \\\n",
      "0    pragma solidity 0.5.4;\\n\\ninterface IERC20 {\\n...  No Vulnerability   \n",
      "56   pragma solidity 0.5.17;\\n\\ncontract InterestRa...  No Vulnerability   \n",
      "115  pragma solidity 0.5.15;\\n\\ncontract IFactRegis...  No Vulnerability   \n",
      "126  pragma solidity 0.5.17;\\n\\ninterface IERC20 {\\...  No Vulnerability   \n",
      "218  pragma solidity 0.6.12;\\n\\nabstract contract E...  No Vulnerability   \n",
      "\n",
      "     label_encoded  \n",
      "0                8  \n",
      "56               8  \n",
      "115              8  \n",
      "126              8  \n",
      "218              8  \n"
     ]
    }
   ],
   "source": [
    "print(safe_contracts_final.head())"
   ]
  },
  {
   "cell_type": "code",
   "execution_count": 15,
   "metadata": {},
   "outputs": [],
   "source": [
    "safe_contracts_code = safe_contracts_final.drop_duplicates(subset='filename', keep='first')\n",
    "\n",
    "#combine the two datasets\n",
    "combined_data = pd.concat([df_8label, safe_contracts_code], ignore_index=True)\n",
    "# combined_data.to_csv(\"combined_dataset.csv\", index=False)\n",
    "\n",
    "# combined_data.to_csv(\"combined_dataset.csv\", index=False)"
   ]
  },
  {
   "cell_type": "code",
   "execution_count": 16,
   "metadata": {},
   "outputs": [
    {
     "name": "stdout",
     "output_type": "stream",
     "text": [
      "Saved processed dataset as 'combined_dataset_processed.csv'.\n",
      "Saved vulnerability mapping as 'vulnerability_map.json'.\n"
     ]
    }
   ],
   "source": [
    "\n",
    "\n",
    "# Define vulnerability labels\n",
    "labels = [\n",
    "    \"No Vulnerability\",\n",
    "    \"./Dataset/block number dependency (BN)\",\n",
    "    \"./Dataset/dangerous delegatecall (DE)/\",\n",
    "    \"./Dataset/ether frozen (EF)\",\n",
    "    \"./Dataset/ether strict equality (SE)\",\n",
    "    \"./Dataset/integer overflow (OF)/\",\n",
    "    \"./Dataset/reentrancy (RE)/\",\n",
    "    \"./Dataset/timestamp dependency (TP)/\",\n",
    "    \"./Dataset/unchecked external call (UC)\"\n",
    "]\n",
    "\n",
    "# Create a mapping dictionary for easy retrieval\n",
    "vulnerability_map = {}  \n",
    "for i, label in enumerate(labels, start=0):\n",
    "    vulnerability_map[i] = label\n",
    "\n",
    "# Save mapping as a JSON file\n",
    "with open(\"vulnerability_map.json\", \"w\") as f:\n",
    "    json.dump(vulnerability_map, f, indent=4)\n",
    "\n",
    "# Create 8 vulnerability columns with default 0\n",
    "for label in labels:\n",
    "    combined_data[label] = 0\n",
    "\n",
    "# Update labels based on the 'label' column\n",
    "for index, row in combined_data.iterrows():\n",
    "    if row[\"label\"] in labels:\n",
    "        combined_data.at[index, row[\"label\"]] = 1  # Mark as vulnerable\n",
    "\n",
    "# Drop old 'label' and 'label_encoded' columns\n",
    "combined_data = combined_data.drop(columns=[\"label\", \"label_encoded\"])\n",
    "\n",
    "# Aggregate data by filename and code, ensuring a single row per file\n",
    "combined_data = combined_data.groupby([\"filename\", \"code\"], as_index=False).max()\n",
    "\n",
    "# Convert vulnerability columns into a list representation\n",
    "combined_data[\"vulnerability_list\"] = combined_data[labels].apply(lambda x: [1 if sum(x) == 0 else 0] + x.tolist(), axis=1)\n",
    "\n",
    "# Drop the individual vulnerability columns\n",
    "combined_data = combined_data.drop(columns=labels)\n",
    "\n",
    "# Save the processed dataset\n",
    "combined_data.to_csv(\"combined_dataset_processed.csv\", index=False)\n",
    "\n",
    "print(\"Saved processed dataset as 'combined_dataset_processed.csv'.\")\n",
    "print(\"Saved vulnerability mapping as 'vulnerability_map.json'.\")\n"
   ]
  },
  {
   "cell_type": "code",
   "execution_count": 17,
   "metadata": {},
   "outputs": [
    {
     "name": "stdout",
     "output_type": "stream",
     "text": [
      "No Vulnerability\n",
      "./Dataset/dangerous delegatecall (DE)/\n",
      "./Dataset/ether frozen (EF)\n",
      "./Dataset/block number dependency (BN)\n",
      "./Dataset/integer overflow (OF)/\n",
      "./Dataset/reentrancy (RE)/\n"
     ]
    }
   ],
   "source": [
    "# Example of Retrieve Vulnerability Names\n",
    "\n",
    "# Load the mapping\n",
    "with open(\"vulnerability_map.json\", \"r\") as f:\n",
    "    vulnerability_map = json.load(f)\n",
    "\n",
    "print(vulnerability_map[\"0\"])\n",
    "print(vulnerability_map[\"2\"])  \n",
    "print(vulnerability_map[\"3\"])\n",
    "\n",
    "# or\n",
    "\n",
    "\n",
    "\n",
    "\n",
    "# Convert keys to integers (optional, but recommended)\n",
    "vulnerability_map = {int(k): v for k, v in vulnerability_map.items()}\n",
    "\n",
    "print(vulnerability_map[1])\n",
    "print(vulnerability_map[5])  \n",
    "print(vulnerability_map[6])"
   ]
  },
  {
   "cell_type": "code",
   "execution_count": 18,
   "metadata": {},
   "outputs": [
    {
     "name": "stdout",
     "output_type": "stream",
     "text": [
      " Dataset Overview:\n",
      "<class 'pandas.core.frame.DataFrame'>\n",
      "RangeIndex: 6547 entries, 0 to 6546\n",
      "Data columns (total 3 columns):\n",
      " #   Column              Non-Null Count  Dtype \n",
      "---  ------              --------------  ----- \n",
      " 0   filename            6547 non-null   object\n",
      " 1   code                6547 non-null   object\n",
      " 2   vulnerability_list  6547 non-null   object\n",
      "dtypes: object(3)\n",
      "memory usage: 153.6+ KB\n",
      "None\n",
      "\n",
      " Missing Value Statistics:\n",
      " filename              0\n",
      "code                  0\n",
      "vulnerability_list    0\n",
      "dtype: int64\n",
      "\n",
      " Total Rows in Dataset: 6547\n",
      "\n",
      " Unique Filenames: 6496\n"
     ]
    },
    {
     "ename": "IndexError",
     "evalue": "list index out of range",
     "output_type": "error",
     "traceback": [
      "\u001b[0;31m---------------------------------------------------------------------------\u001b[0m",
      "\u001b[0;31mIndexError\u001b[0m                                Traceback (most recent call last)",
      "Cell \u001b[0;32mIn[18], line 28\u001b[0m\n\u001b[1;32m     26\u001b[0m \u001b[38;5;28;01mfor\u001b[39;00m row \u001b[38;5;129;01min\u001b[39;00m df[\u001b[38;5;124m\"\u001b[39m\u001b[38;5;124mvulnerability_list\u001b[39m\u001b[38;5;124m\"\u001b[39m]:\n\u001b[1;32m     27\u001b[0m     \u001b[38;5;28;01mfor\u001b[39;00m i, presence \u001b[38;5;129;01min\u001b[39;00m \u001b[38;5;28menumerate\u001b[39m(row):\n\u001b[0;32m---> 28\u001b[0m         \u001b[43mvulnerability_counts\u001b[49m\u001b[43m[\u001b[49m\u001b[43mi\u001b[49m\u001b[43m]\u001b[49m \u001b[38;5;241m+\u001b[39m\u001b[38;5;241m=\u001b[39m presence\n\u001b[1;32m     30\u001b[0m \u001b[38;5;66;03m# Convert counts to DataFrame for visualization\u001b[39;00m\n\u001b[1;32m     31\u001b[0m vulnerability_df \u001b[38;5;241m=\u001b[39m pd\u001b[38;5;241m.\u001b[39mDataFrame(\n\u001b[1;32m     32\u001b[0m     {\u001b[38;5;124m\"\u001b[39m\u001b[38;5;124mVulnerability\u001b[39m\u001b[38;5;124m\"\u001b[39m: [vulnerability_map[i] \u001b[38;5;28;01mfor\u001b[39;00m i \u001b[38;5;129;01min\u001b[39;00m \u001b[38;5;28mrange\u001b[39m(\u001b[38;5;28mlen\u001b[39m(vulnerability_map))], \u001b[38;5;124m\"\u001b[39m\u001b[38;5;124mCount\u001b[39m\u001b[38;5;124m\"\u001b[39m: vulnerability_counts}\n\u001b[1;32m     33\u001b[0m )\n",
      "\u001b[0;31mIndexError\u001b[0m: list index out of range"
     ]
    }
   ],
   "source": [
    "import matplotlib.pyplot as plt\n",
    "import seaborn as sns\n",
    "\n",
    "# Load dataset\n",
    "df = pd.read_csv(\"combined_dataset_processed.csv\")\n",
    "\n",
    "# Load vulnerability map\n",
    "with open(\"vulnerability_map.json\", \"r\") as f:\n",
    "    vulnerability_map = json.load(f)\n",
    "    vulnerability_map = {int(k): v for k, v in vulnerability_map.items()}  # Convert keys to integers\n",
    "\n",
    "### === 1 Basic Dataset Information === ###\n",
    "print(\" Dataset Overview:\")\n",
    "print(df.info())   # Data types & missing values\n",
    "print(\"\\n Missing Value Statistics:\\n\", df.isnull().sum())\n",
    "print(\"\\n Total Rows in Dataset:\", df.shape[0])\n",
    "\n",
    "# Check if filenames are unique\n",
    "print(\"\\n Unique Filenames:\", df[\"filename\"].nunique())\n",
    "\n",
    "# Convert string representation of list to actual list\n",
    "df[\"vulnerability_list\"] = df[\"vulnerability_list\"].apply(lambda x: eval(x) if isinstance(x, str) else x)\n",
    "\n",
    "# Count vulnerabilities\n",
    "vulnerability_counts = [0] * len(vulnerability_map)\n",
    "for row in df[\"vulnerability_list\"]:\n",
    "    for i, presence in enumerate(row):\n",
    "        vulnerability_counts[i] += presence\n",
    "\n",
    "# Convert counts to DataFrame for visualization\n",
    "vulnerability_df = pd.DataFrame(\n",
    "    {\"Vulnerability\": [vulnerability_map[i] for i in range(len(vulnerability_map))], \"Count\": vulnerability_counts}\n",
    ")\n",
    "\n",
    "print(\"\\n Vulnerability Label Distribution:\\n\", vulnerability_df)\n",
    "\n",
    "### === 2 Label Distribution Visualization === ###\n",
    "plt.figure(figsize=(10,5))\n",
    "sns.barplot(x=\"Vulnerability\", y=\"Count\", data=vulnerability_df, palette=\"viridis\")\n",
    "plt.xticks(rotation=45, ha=\"right\")\n",
    "plt.xlabel(\"Vulnerability Type\")\n",
    "plt.ylabel(\"Count\")\n",
    "plt.title(\"Vulnerability Distribution\")\n",
    "plt.show()\n",
    "\n",
    "### === 3 Pie Chart for Vulnerability Distribution === ###\n",
    "plt.figure(figsize=(8, 8))\n",
    "plt.pie(\n",
    "    vulnerability_df[\"Count\"], \n",
    "    labels=vulnerability_df[\"Vulnerability\"], \n",
    "    autopct=\"%1.1f%%\", \n",
    "    colors=sns.color_palette(\"viridis\", len(vulnerability_df)), \n",
    "    startangle=140\n",
    ")\n",
    "plt.title(\"Vulnerability Distribution (Pie Chart)\")\n",
    "plt.show()\n",
    "\n",
    "### === 4 Co-occurrence Analysis (Heatmap) === ###\n",
    "# Convert list format back into a DataFrame with separate columns for each vulnerability\n",
    "vulnerability_matrix = pd.DataFrame(df[\"vulnerability_list\"].to_list(), columns=vulnerability_map.values())\n",
    "\n",
    "plt.figure(figsize=(8,6))\n",
    "sns.heatmap(vulnerability_matrix.corr(), annot=True, cmap=\"coolwarm\", linewidths=0.5)\n",
    "plt.title(\"Vulnerability Co-occurrence Heatmap\")\n",
    "plt.show()\n",
    "\n",
    "### === 5 Code Length Distribution === ###\n",
    "# Compute code length\n",
    "df[\"code_length\"] = df[\"code\"].apply(lambda x: len(str(x)))\n",
    "\n",
    "# Plot histogram\n",
    "plt.figure(figsize=(10, 5))\n",
    "sns.histplot(df[\"code_length\"], bins=50, kde=True, color=\"blue\")\n",
    "plt.xlabel(\"Code Length\")\n",
    "plt.ylabel(\"Frequency\")\n",
    "plt.title(\"Code Length Distribution\")\n",
    "plt.show()\n"
   ]
  },
  {
   "cell_type": "code",
   "execution_count": null,
   "metadata": {},
   "outputs": [
    {
     "name": "stdout",
     "output_type": "stream",
     "text": [
      "                                     filename  \\\n",
      "0                                       0.sol   \n",
      "1  0x0021dc34eec3fb8b1e34b5ec812c342d0352ee4d   \n",
      "2  0x003fafea71245cb13171b9febfe6121a4d3ff4d1   \n",
      "3  0x004a531d295a843f6ad739a4f513cf48eb2ee984   \n",
      "4  0x00619ea5a1cc9e9ef8d02a4ebe9f69b3bc387098   \n",
      "\n",
      "                                                code  \\\n",
      "0  pragma solidity ^0.4.24;\\ncontract BREBuy {\\n ...   \n",
      "1  /**\\n *Submitted for verification at Etherscan...   \n",
      "2  // SPDX-License-Identifier: MIT\\n\\npragma soli...   \n",
      "3  /**\\n *Submitted for verification at Etherscan...   \n",
      "4  /**\\n *Submitted for verification at Etherscan...   \n",
      "\n",
      "            vulnerability_list  code_length           pragma_solidity  \n",
      "0  [0, 1, 0, 0, 0, 0, 0, 0, 0]         5376  pragma solidity ^0.4.24;  \n",
      "1  [1, 0, 0, 0, 0, 0, 0, 0, 0]        25769  pragma solidity ^0.6.12;  \n",
      "2  [1, 0, 0, 0, 0, 0, 0, 0, 0]        13339  pragma solidity ^0.5.17;  \n",
      "3  [1, 0, 0, 0, 0, 0, 0, 0, 0]        25660  pragma solidity ^0.6.12;  \n",
      "4  [1, 0, 0, 0, 0, 0, 0, 0, 0]        25597  pragma solidity ^0.6.12;  \n"
     ]
    }
   ],
   "source": [
    "# add ‘pragma solidity' to the file\n",
    "# print(df['code'][0])\n",
    "import re\n",
    "\n",
    "def extract_pragma_solidity(code):\n",
    "    if isinstance(code, str):\n",
    "        match = re.search(r\"pragma solidity [\\^~]?\\d+\\.\\d+\\.\\d+;\", code)\n",
    "        if match:\n",
    "            return match.group(0)  # Return the matched pragma statement\n",
    "    return None  # Return None if no match is found\n",
    "\n",
    "# Apply the function to the 'code' column and create a new column\n",
    "df['pragma_solidity'] = df['code'].apply(extract_pragma_solidity)\n",
    "\n",
    "# Save the updated DataFrame back to the CSV file\n",
    "df.to_csv(\"SC_Vuln_8label_Processed.csv\", index=False)\n",
    "print(df.head())"
   ]
  },
  {
   "cell_type": "code",
   "execution_count": null,
   "metadata": {},
   "outputs": [
    {
     "name": "stdout",
     "output_type": "stream",
     "text": [
      "0       contract BREBuy { struct ContractParam { uint3...\n",
      "1       abstract contract Context { function _msgSende...\n",
      "2       interface IERC20 { function totalSupply() exte...\n",
      "3       abstract contract Context { function _msgSende...\n",
      "4       abstract contract Context { function _msgSende...\n",
      "                              ...                        \n",
      "6542    contract RP1events { event onNewName ( uint256...\n",
      "6543    library SafeMath { function mul(uint256 a, uin...\n",
      "6544    library SafeMath { function mul(uint256 _a, ui...\n",
      "6545    library SafeMath { function mul(uint256 a, uin...\n",
      "6546    library SafeMath { function mul(uint256 a, uin...\n",
      "Name: clean_code, Length: 6547, dtype: object\n"
     ]
    }
   ],
   "source": [
    "# solidity_stopwords = [\n",
    "#     \"pragma\", \"interface\", \"contract\", \"function\", \"event\", \"modifier\", \"library\", \"using\",\n",
    "#     \"string\", \"uint8\", \"uint256\", \"address\", \"mapping\", \"bool\", \"require\", \"return\", \"memory\",\n",
    "#     \"storage\", \"public\", \"internal\", \"view\", \"constant\", \"constructor\",\n",
    "#     \"_owner\", \"_balances\", \"_allowances\", \"_founder\", \"_marketing\", \"_who\", \"_burntAmount\",\n",
    "#     \"_from\", \"_to\", \"_value\", \"_timestamp\", \"_bool\", \"msg.sender\", \"totalSupply\",\n",
    "#     \"balanceOf\", \"transfer\", \"allowance\", \"approve\", \"transferFrom\", \"add\", \"sub\", \"mul\", \"div\",\n",
    "#     \"mod\", \"changeFounder\", \"setMinter\", \"setFurnace\", \"freezeAccount\", \"solidity\", \"bytes32\"\n",
    "# ]\n",
    "# def clean_code(solidity_code):\n",
    "#     cleaned_code = re.sub(r'//.*?$', '', solidity_code, flags=re.MULTILINE)\n",
    "#     cleaned_code = re.sub(r'/\\*.*?\\*/', '', cleaned_code, flags=re.DOTALL)\n",
    "#     cleaned_code = re.sub(r'[^a-zA-Z0-9\\s+=\\-*&|/<>!(){};.,]', '', cleaned_code)\n",
    "#     cleaned_code = '\\n'.join(line.strip().lower() for line in cleaned_code.splitlines() if line.strip())\n",
    "\n",
    "#     stop_words = set(stopwords.words('english'))\n",
    "#     tokens = [word for word in cleaned_code.split() if word not in stop_words]\n",
    "#     tokens = [token for token in tokens if token not in solidity_stopwords]\n",
    "\n",
    "#     return tokens\n",
    "\n",
    "def clean_code(code):\n",
    "    # Remove comments (single-line and multi-line)\n",
    "    code = re.sub(r'\\/\\/.*', '', code)\n",
    "    code = re.sub(r'\\/\\*[\\s\\S]*?\\*\\/', '', code)\n",
    "    code = re.sub(r\"pragma solidity[^;]+;\", \"\", code)\n",
    "    code = re.sub(r\"import [^;]+;\", \"\", code)\n",
    "    code = re.sub(r\"\\s+\", \" \", code).strip()\n",
    "\n",
    "    string_literals = re.findall(r'\"[^\"]*\"|\\'[^\\']*\\'', code)\n",
    "    string_map = {s: f'__STRING{idx}__' for idx, s in enumerate(string_literals)}\n",
    "    for string, placeholder in string_map.items():\n",
    "        code = code.replace(string, placeholder)\n",
    "    \n",
    "    return code\n",
    "\n",
    "df['code'] = df['code'].apply(clean_code)\n",
    "print(df['code'])\n"
   ]
  },
  {
   "cell_type": "code",
   "execution_count": null,
   "metadata": {},
   "outputs": [
    {
     "name": "stdout",
     "output_type": "stream",
     "text": [
      "['contract', 'BREBuy', '{', 'struct', 'ContractParam', '{', 'uint32', 'totalSize', ';', 'uint256', 'singlePrice', ';', 'uint8', 'pumpRate', ';', 'bool', 'hasChange', ';', '}', 'address', 'owner', '=', '0', 'x0', ';', 'uint32', 'gameIndex', '=', '0', ';', 'uint256', 'totalPrice', '=', '0', ';', 'bool', 'isLock', '=', 'false', ';', 'ContractParam', 'public', 'setConfig', ';', 'ContractParam', 'public', 'curConfig', ';', 'address', '[', ']', 'public', 'addressArray', '=', 'new', 'address', '[', ']', '(', '0', ')', ';', 'event', 'openLockEvent', '(', ')', ';', 'event', 'addPlayerEvent', '(', 'uint32', 'gameIndex', ',', 'address', 'player', ')', ';', 'event', 'gameOverEvent', '(', 'uint32', 'gameIndex', ',', 'uint32', 'totalSize', ',', 'uint256', 'singlePrice', ',', 'uint8', 'pumpRate', ',', 'address', 'winAddr', ',', 'uint', 'overTime', ')', ';', 'event', 'stopGameEvent', '(', 'uint', 'totalBalace', ',', 'uint', 'totalSize', ',', 'uint', 'price', ')', ';', 'constructor', '(', 'uint32', '_totalSize', ',', 'uint256', '_singlePrice', ')', 'public', '{', 'owner', '=', 'msg', '.', 'sender', ';', 'setConfig', '=', 'ContractParam', '(', '_totalSize', ',', '_singlePrice', '*', '1', 'finney', ',', '5', ',', 'false', ')', ';', 'curConfig', '=', 'ContractParam', '(', '_totalSize', ',', '_singlePrice', '*', '1', 'finney', ',', '5', ',', 'false', ')', ';', 'startNewGame', '(', ')', ';', '}', 'modifier', 'onlyOwner', '{', 'require', '(', 'msg', '.', 'sender', '==', 'owner', ',', '__STRING0__', ')', ';', '_', ';', '}', 'modifier', 'notLock', '{', 'require', '(', 'isLock', '==', 'false', ',', '__STRING1__', ')', ';', '_', ';', '}', 'function', 'isNotContract', '(', 'address', 'addr', ')', 'private', 'view', 'returns', '(', 'bool', ')', '{', 'uint', 'size', ';', 'assembly', '{', 'size', ':', '=', 'extcodesize', '(', 'addr', ')', '}', 'return', 'size', '<=', '0', ';', '}', 'function', 'updateLock', '(', 'bool', 'b', ')', 'onlyOwner', 'public', '{', 'require', '(', 'isLock', '!=', 'b', ',', '__STRING2__', ')', ';', 'isLock', '=', 'b', ';', 'if', '(', 'isLock', ')', '{', 'stopGame', '(', ')', ';', '}', 'else', '{', 'startNewGame', '(', ')', ';', 'emit', 'openLockEvent', '(', ')', ';', '}', '}', 'function', 'stopGame', '(', ')', 'onlyOwner', 'private', '{', 'if', '(', 'addressArray', '.', 'length', '<=', '0', ')', '{', 'return', ';', '}', 'uint', 'totalBalace', '=', 'address', '(', 'this', ')', '.', 'balance', ';', 'uint', 'price', '=', 'totalBalace', '/', 'addressArray', '.', 'length', ';', 'for', '(', 'uint', 'i', '=', '0', ';', 'i', '<', 'addressArray', '.', 'length', ';', 'i', '++', ')', '{', 'address', 'curPlayer', '=', 'addressArray', '[', 'i', ']', ';', 'curPlayer', '.', 'transfer', '(', 'price', ')', ';', '}', 'emit', 'stopGameEvent', '(', 'totalBalace', ',', 'addressArray', '.', 'length', ',', 'price', ')', ';', 'addressArray', '.', 'length', '=', '0', ';', '}', 'function', 'transferOwnership', '(', 'address', 'newOwner', ')', 'onlyOwner', 'public', '{', 'if', '(', 'newOwner', '!=', 'address', '(', '0', ')', ')', '{', 'owner', '=', 'newOwner', ';', '}', '}', 'function', 'changeConfig', '(', 'uint32', '_totalSize', ',', 'uint256', '_singlePrice', ',', 'uint8', '_pumpRate', ')', 'onlyOwner', 'public', 'payable', '{', 'curConfig', '.', 'hasChange', '=', 'true', ';', 'if', '(', 'setConfig', '.', 'totalSize', '!=', '_totalSize', ')', '{', 'setConfig', '.', 'totalSize', '=', '_totalSize', ';', '}', 'if', '(', 'setConfig', '.', 'pumpRate', '!=', '_pumpRate', ')', '{', 'setConfig', '.', 'pumpRate', '=', '_pumpRate', ';', '}', 'if', '(', 'setConfig', '.', 'singlePrice', '!=', '_singlePrice', '*', '1', 'finney', ')', '{', 'setConfig', '.', 'singlePrice', '=', '_singlePrice', '*', '1', 'finney', ';', '}', '}', 'function', 'startNewGame', '(', ')', 'private', '{', 'gameIndex', '++', ';', 'if', '(', 'curConfig', '.', 'hasChange', ')', '{', 'if', '(', 'curConfig', '.', 'totalSize', '!=', 'setConfig', '.', 'totalSize', ')', '{', 'curConfig', '.', 'totalSize', '=', 'setConfig', '.', 'totalSize', ';', '}', 'if', '(', 'curConfig', '.', 'singlePrice', '!=', 'setConfig', '.', 'singlePrice', ')', '{', 'curConfig', '.', 'singlePrice', '=', 'setConfig', '.', 'singlePrice', ';', '}', 'if', '(', 'curConfig', '.', 'pumpRate', '!=', 'setConfig', '.', 'pumpRate', ')', '{', 'curConfig', '.', 'pumpRate', '=', 'setConfig', '.', 'pumpRate', ';', '}', 'curConfig', '.', 'hasChange', '=', 'false', ';', '}', 'addressArray', '.', 'length', '=', '0', ';', '}', 'function', 'getGameInfo', '(', ')', 'public', 'view', 'returns', '(', 'uint256', ',', 'uint32', ',', 'uint256', ',', 'uint8', ',', 'address', '[', ']', ',', 'uint256', ',', 'bool', ')', '{', 'return', '(', 'gameIndex', ',', 'curConfig', '.', 'totalSize', ',', 'curConfig', '.', 'singlePrice', ',', 'curConfig', '.', 'pumpRate', ',', 'addressArray', ',', 'totalPrice', ',', 'isLock', ')', ';', '}', 'function', 'gameResult', '(', ')', 'private', '{', 'uint', 'index', '=', 'getRamdon', '(', ')', ';', 'address', 'lastAddress', '=', 'addressArray', '[', 'index', ']', ';', 'uint', 'totalBalace', '=', 'address', '(', 'this', ')', '.', 'balance', ';', 'uint', 'giveToOwn', '=', 'totalBalace', '*', 'curConfig', '.', 'pumpRate', '/', '100', ';', 'uint', 'giveToActor', '=', 'totalBalace', '-', 'giveToOwn', ';', 'owner', '.', 'transfer', '(', 'giveToOwn', ')', ';', 'lastAddress', '.', 'transfer', '(', 'giveToActor', ')', ';', 'emit', 'gameOverEvent', '(', 'gameIndex', ',', 'curConfig', '.', 'totalSize', ',', 'curConfig', '.', 'singlePrice', ',', 'curConfig', '.', 'pumpRate', ',', 'lastAddress', ',', 'now', ')', ';', '}', 'function', 'getRamdon', '(', ')', 'private', 'view', 'returns', '(', 'uint', ')', '{', 'bytes32', 'ramdon', '=', 'keccak256', '(', 'abi', '.', 'encodePacked', '(', 'ramdon', ',', 'now', ',', 'blockhash', '(', 'block', '.', 'number', '-', '1', ')', ')', ')', ';', 'for', '(', 'uint', 'i', '=', '0', ';', 'i', '<', 'addressArray', '.', 'length', ';', 'i', '++', ')', '{', 'ramdon', '=', 'keccak256', '(', 'abi', '.', 'encodePacked', '(', 'ramdon', ',', 'now', ',', 'addressArray', '[', 'i', ']', ')', ')', ';', '}', 'uint', 'index', '=', 'uint', '(', 'ramdon', ')', '%', 'addressArray', '.', 'length', ';', 'return', 'index', ';', '}', 'function', '(', ')', 'notLock', 'payable', 'public', '{', 'require', '(', 'msg', '.', 'sender', '==', 'tx', '.', 'origin', ',', '__STRING3__', ')', ';', 'require', '(', 'isNotContract', '(', 'msg', '.', 'sender', ')', ',', '__STRING4__', ')', ';', 'require', '(', 'msg', '.', 'value', '==', 'curConfig', '.', 'singlePrice', ',', '__STRING5__', ')', ';', 'totalPrice', '=', 'totalPrice', '+', 'msg', '.', 'value', ';', 'addressArray', '.', 'push', '(', 'msg', '.', 'sender', ')', ';', 'emit', 'addPlayerEvent', '(', 'gameIndex', ',', 'msg', '.', 'sender', ')', ';', 'if', '(', 'addressArray', '.', 'length', '>=', 'curConfig', '.', 'totalSize', ')', '{', 'gameResult', '(', ')', ';', 'startNewGame', '(', ')', ';', '}', '}', '}']\n"
     ]
    }
   ],
   "source": [
    "#Tokenization helps extract important elements from the code\n",
    "solidity_token_pattern = r\"\"\"\n",
    "    [A-Za-z_][A-Za-z_0-9]*      \n",
    "    |\\d+\\.\\d+|\\d+               \n",
    "    |0x[0-9a-fA-F]+             \n",
    "    |\\d+e[+-]?\\d+              \n",
    "    |==|!=|>=|<=|\\+=|-=|\\*=|/=  \n",
    "    |=>|=<|>>|<<|\\+\\+|--        \n",
    "    |&&|\\|\\||!                  \n",
    "    |[^\\w\\s]                    \n",
    "\"\"\"\n",
    "\n",
    "tokenizer = RegexpTokenizer(solidity_token_pattern, flags=re.VERBOSE)\n",
    "\n",
    "df['tokens'] = df['clean_code'].apply(tokenizer.tokenize)\n",
    "print(df['tokens'][0])"
   ]
  },
  {
   "cell_type": "code",
   "execution_count": null,
   "metadata": {},
   "outputs": [],
   "source": [
    "#Feature Extraction to numerical features for TF-ID, feature matri\n",
    "df['token_string'] = df['tokens'].apply(lambda x: ' '.join(x))\n",
    "vectorizer = TfidfVectorizer(max_features=1000) \n",
    "X_tfidf = vectorizer.fit_transform(df['token_string'])\n"
   ]
  },
  {
   "cell_type": "code",
   "execution_count": null,
   "metadata": {},
   "outputs": [],
   "source": [
    "# encoder = LabelEncoder()\n",
    "# df['label_encoded'] = encoder.fit_transform(df['label'])\n",
    "# print(df['label_encoded'])\n",
    "\n",
    "\n",
    "\n",
    "# X_train, X_test, y_train, y_test = train_test_split(X_tfidf, df['label_encoded'], test_size=0.2, random_state=42, stratify=df['label_encoded'])\n",
    "# print(y_train.value_counts())\n",
    "# print(y_test.value_counts())"
   ]
  }
 ],
 "metadata": {
  "kernelspec": {
   "display_name": "Python 3",
   "language": "python",
   "name": "python3"
  },
  "language_info": {
   "codemirror_mode": {
    "name": "ipython",
    "version": 3
   },
   "file_extension": ".py",
   "mimetype": "text/x-python",
   "name": "python",
   "nbconvert_exporter": "python",
   "pygments_lexer": "ipython3",
   "version": "3.10.1"
  }
 },
 "nbformat": 4,
 "nbformat_minor": 2
}
